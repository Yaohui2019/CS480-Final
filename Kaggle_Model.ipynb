{
  "cells": [
    {
      "cell_type": "code",
      "execution_count": null,
      "id": "6196f78c",
      "metadata": {
        "execution": {
          "iopub.execute_input": "2024-08-13T00:12:26.370937Z",
          "iopub.status.busy": "2024-08-13T00:12:26.370507Z",
          "iopub.status.idle": "2024-08-13T00:12:34.480517Z",
          "shell.execute_reply": "2024-08-13T00:12:34.479332Z"
        },
        "papermill": {
          "duration": 8.119616,
          "end_time": "2024-08-13T00:12:34.483474",
          "exception": false,
          "start_time": "2024-08-13T00:12:26.363858",
          "status": "completed"
        },
        "tags": [],
        "id": "6196f78c"
      },
      "outputs": [],
      "source": [
        "import os\n",
        "\n",
        "import numpy as np\n",
        "import pandas as pd\n",
        "import torch\n",
        "from PIL import Image\n",
        "from tqdm.notebook import tqdm\n",
        "from sklearn.preprocessing import StandardScaler, PolynomialFeatures\n",
        "from sklearn.model_selection import train_test_split\n",
        "from sklearn.metrics import r2_score\n",
        "from catboost import Pool, CatBoostRegressor\n",
        "from torchvision import transforms\n",
        "\n",
        "tqdm.pandas()"
      ]
    },
    {
      "cell_type": "code",
      "execution_count": null,
      "id": "570eca8c",
      "metadata": {
        "execution": {
          "iopub.execute_input": "2024-08-13T00:12:34.495819Z",
          "iopub.status.busy": "2024-08-13T00:12:34.495249Z",
          "iopub.status.idle": "2024-08-13T00:12:34.508858Z",
          "shell.execute_reply": "2024-08-13T00:12:34.507602Z"
        },
        "papermill": {
          "duration": 0.023013,
          "end_time": "2024-08-13T00:12:34.511998",
          "exception": false,
          "start_time": "2024-08-13T00:12:34.488985",
          "status": "completed"
        },
        "tags": [],
        "id": "570eca8c",
        "outputId": "8d866194-042a-496e-9fe0-fa5f6fe90c36"
      },
      "outputs": [
        {
          "data": {
            "text/plain": [
              "'cpu'"
            ]
          },
          "execution_count": 2,
          "metadata": {},
          "output_type": "execute_result"
        }
      ],
      "source": [
        "class Config():\n",
        "    TARGET_COLUMNS = ['X4_mean', 'X11_mean', 'X18_mean', 'X50_mean', 'X26_mean', 'X3112_mean']\n",
        "    N_VAL_SAMPLES0 = 4096\n",
        "    # Others\n",
        "    SEED = 20898485\n",
        "    DEVICE = 'cuda:0' if torch.cuda.is_available() else 'cpu'\n",
        "\n",
        "def seed_everything(seed: int):\n",
        "    os.environ['PYTHONHASHSEED'] = str(seed)\n",
        "    np.random.seed(seed)\n",
        "    torch.manual_seed(seed)\n",
        "    torch.cuda.manual_seed(seed)\n",
        "\n",
        "CONFIG = Config()\n",
        "seed_everything(CONFIG.SEED)\n",
        "CONFIG.DEVICE"
      ]
    },
    {
      "cell_type": "markdown",
      "id": "99f0f20a",
      "metadata": {
        "papermill": {
          "duration": 0.004311,
          "end_time": "2024-08-13T00:12:34.541086",
          "exception": false,
          "start_time": "2024-08-13T00:12:34.536775",
          "status": "completed"
        },
        "tags": [],
        "id": "99f0f20a"
      },
      "source": [
        "## Read Dataset"
      ]
    },
    {
      "cell_type": "code",
      "execution_count": null,
      "id": "adcdf338",
      "metadata": {
        "execution": {
          "iopub.execute_input": "2024-08-13T00:12:34.551988Z",
          "iopub.status.busy": "2024-08-13T00:12:34.551572Z",
          "iopub.status.idle": "2024-08-13T00:12:36.501791Z",
          "shell.execute_reply": "2024-08-13T00:12:36.500447Z"
        },
        "papermill": {
          "duration": 1.959135,
          "end_time": "2024-08-13T00:12:36.504762",
          "exception": false,
          "start_time": "2024-08-13T00:12:34.545627",
          "status": "completed"
        },
        "tags": [],
        "id": "adcdf338"
      },
      "outputs": [],
      "source": [
        "data = pd.read_csv('/kaggle/input/cs-480-2024-spring/data/train.csv')\n",
        "data['file_path'] = data['id'].apply(lambda s: f'/kaggle/input/cs-480-2024-spring/data/train_images/{s}.jpeg')\n",
        "\n",
        "data_test = pd.read_csv('/kaggle/input/cs-480-2024-spring/data/test.csv')\n",
        "data_test['file_path'] = data_test['id'].apply(lambda s: f'/kaggle/input/cs-480-2024-spring/data/test_images/{s}.jpeg')\n",
        "test = data_test\n",
        "\n",
        "CONFIG.FEATURE_COLUMNS = data_test.columns.values[1:-2]\n",
        "train, val = train_test_split(data, test_size=CONFIG.N_VAL_SAMPLES0, shuffle=True, random_state=CONFIG.SEED)\n",
        "train = train.reset_index(drop=True)\n",
        "val = val.reset_index(drop=True)"
      ]
    },
    {
      "cell_type": "code",
      "execution_count": null,
      "id": "85a7037b",
      "metadata": {
        "execution": {
          "iopub.execute_input": "2024-08-13T00:12:36.515738Z",
          "iopub.status.busy": "2024-08-13T00:12:36.515297Z",
          "iopub.status.idle": "2024-08-13T00:12:36.610511Z",
          "shell.execute_reply": "2024-08-13T00:12:36.608839Z"
        },
        "papermill": {
          "duration": 0.103895,
          "end_time": "2024-08-13T00:12:36.613391",
          "exception": false,
          "start_time": "2024-08-13T00:12:36.509496",
          "status": "completed"
        },
        "tags": [],
        "id": "85a7037b",
        "outputId": "ec7de38b-b2d0-4187-ddcc-60eab86b71ab"
      },
      "outputs": [
        {
          "name": "stdout",
          "output_type": "stream",
          "text": [
            "===== train shape: (34845, 171) =====\n",
            "train \t| # Masked Samples: 4422\n",
            "train \t| % Masked Samples: 11.261%\n",
            "===== val shape: (3660, 171) =====\n",
            "val \t| # Masked Samples: 436\n",
            "val \t| % Masked Samples: 10.645%\n"
          ]
        }
      ],
      "source": [
        "def get_mask(df, labels_describe_df):\n",
        "    lower = []\n",
        "    higher = []\n",
        "    mask = np.empty(shape=df[CONFIG.TARGET_COLUMNS].shape, dtype=bool)\n",
        "    for idx, t in enumerate(CONFIG.TARGET_COLUMNS):\n",
        "        labels = df[t].values\n",
        "        v_min, v_max = labels_describe_df.loc[t]['0.1%'], labels_describe_df.loc[t]['98%']\n",
        "        mask[:,idx] = ((labels > v_min) & (labels < v_max))\n",
        "    return mask.min(axis=1)\n",
        "\n",
        "labels_describe_df = train[CONFIG.TARGET_COLUMNS].describe(percentiles=[0.001, 0.98]).round(3).T\n",
        "# Masks\n",
        "mask_train = get_mask(train, labels_describe_df)\n",
        "mask_val = get_mask(val, labels_describe_df)\n",
        "# Masked DataFrames\n",
        "train_mask = train[mask_train].reset_index(drop=True)\n",
        "val_mask = val[mask_val].reset_index(drop=True)\n",
        "\n",
        "for m, subset, full in zip([train_mask, val_mask], ['train', 'val'], [train, val]):\n",
        "    print(f'===== {subset} shape: {m.shape} =====')\n",
        "    n_masked = len(full) - len(m)\n",
        "    perc_masked = (n_masked / len(full)) * 100\n",
        "    print(f'{subset} \\t| # Masked Samples: {n_masked}')\n",
        "    print(f'{subset} \\t| % Masked Samples: {perc_masked:.3f}%')"
      ]
    },
    {
      "cell_type": "code",
      "execution_count": null,
      "id": "11fc2684",
      "metadata": {
        "execution": {
          "iopub.execute_input": "2024-08-13T00:12:36.787318Z",
          "iopub.status.busy": "2024-08-13T00:12:36.786477Z",
          "iopub.status.idle": "2024-08-13T00:12:40.252453Z",
          "shell.execute_reply": "2024-08-13T00:12:40.251171Z"
        },
        "papermill": {
          "duration": 3.474147,
          "end_time": "2024-08-13T00:12:40.254764",
          "exception": false,
          "start_time": "2024-08-13T00:12:36.780617",
          "status": "completed"
        },
        "tags": [],
        "id": "11fc2684",
        "outputId": "53da1980-1fb9-4c39-9a5f-79f5a76e64e6"
      },
      "outputs": [
        {
          "name": "stdout",
          "output_type": "stream",
          "text": [
            "Embeddings image_embs_dinov2_vitg14_reg loaded from dataset.\n"
          ]
        }
      ],
      "source": [
        "# Standard Scaler for Features\n",
        "FEATURE_SCALER = StandardScaler()\n",
        "# Fit and transform on training features\n",
        "train_features_mask = FEATURE_SCALER.fit_transform(train_mask[CONFIG.FEATURE_COLUMNS].values.astype(np.float32))\n",
        "# Transform val/test features using scaler fitted on train data\n",
        "val_features_mask = FEATURE_SCALER.transform(val_mask[CONFIG.FEATURE_COLUMNS].values.astype(np.float32))\n",
        "test_features = FEATURE_SCALER.transform(test[CONFIG.FEATURE_COLUMNS].values.astype(np.float32))\n",
        "\n",
        "y_train_mask = train_mask[CONFIG.TARGET_COLUMNS].values\n",
        "y_val_mask = val_mask[CONFIG.TARGET_COLUMNS].values\n",
        "\n",
        "\n",
        "#Read Embeddings\n",
        "suffix = 'image_embs_dinov2_vitg14_reg'\n",
        "train_image_embeddings = np.load(f'/kaggle/input/embedn/train_{suffix}.npy')\n",
        "val_image_embeddings = np.load(f'/kaggle/input/embedn/val_{suffix}.npy')\n",
        "test_image_embeddings = np.load(f'/kaggle/input/embedn/test_{suffix}.npy')\n",
        "\n",
        "train_image_embeddings = train_image_embeddings[mask_train,:]\n",
        "val_image_embeddings = val_image_embeddings[mask_val, :]\n",
        "print(f'Embeddings {suffix} loaded from dataset.')"
      ]
    },
    {
      "cell_type": "markdown",
      "id": "c8b0f73d",
      "metadata": {
        "papermill": {
          "duration": 0.00476,
          "end_time": "2024-08-13T00:12:40.264462",
          "exception": false,
          "start_time": "2024-08-13T00:12:40.259702",
          "status": "completed"
        },
        "tags": [],
        "id": "c8b0f73d"
      },
      "source": [
        "## Get final features DataFrames"
      ]
    },
    {
      "cell_type": "code",
      "execution_count": null,
      "id": "104c5554",
      "metadata": {
        "execution": {
          "iopub.execute_input": "2024-08-13T00:12:40.294409Z",
          "iopub.status.busy": "2024-08-13T00:12:40.293380Z",
          "iopub.status.idle": "2024-08-13T00:12:43.014697Z",
          "shell.execute_reply": "2024-08-13T00:12:43.013449Z"
        },
        "papermill": {
          "duration": 2.730025,
          "end_time": "2024-08-13T00:12:43.017422",
          "exception": false,
          "start_time": "2024-08-13T00:12:40.287397",
          "status": "completed"
        },
        "tags": [],
        "id": "104c5554"
      },
      "outputs": [],
      "source": [
        "first_n_poly_feats = 1000\n",
        "train_features_mask_all = np.concatenate(\n",
        "    (PolynomialFeatures(2).fit_transform(train_features_mask)[:, :first_n_poly_feats], train_image_embeddings), axis=1\n",
        ")\n",
        "val_features_mask_all = np.concatenate(\n",
        "    (PolynomialFeatures(2).fit_transform(val_features_mask)[:, :first_n_poly_feats], val_image_embeddings), axis=1\n",
        ")\n",
        "test_features_all = np.concatenate(\n",
        "    (PolynomialFeatures(2).fit_transform(test_features)[:, :first_n_poly_feats], test_image_embeddings), axis=1\n",
        ")\n",
        "\n",
        "X_train = pd.DataFrame(train_features_mask_all)\n",
        "X_train['emb'] = list(train_image_embeddings)\n",
        "\n",
        "X_val = pd.DataFrame(val_features_mask_all)\n",
        "X_val['emb'] = list(val_image_embeddings)\n",
        "\n",
        "X_test = pd.DataFrame(test_features_all)\n",
        "X_test['emb'] = list(test_image_embeddings)"
      ]
    },
    {
      "cell_type": "code",
      "execution_count": null,
      "id": "c703f380",
      "metadata": {
        "execution": {
          "iopub.execute_input": "2024-08-13T00:12:43.064839Z",
          "iopub.status.busy": "2024-08-13T00:12:43.064421Z",
          "iopub.status.idle": "2024-08-13T02:25:41.417310Z",
          "shell.execute_reply": "2024-08-13T02:25:41.415400Z"
        },
        "papermill": {
          "duration": 7978.368198,
          "end_time": "2024-08-13T02:25:41.426485",
          "exception": false,
          "start_time": "2024-08-13T00:12:43.058287",
          "status": "completed"
        },
        "tags": [],
        "colab": {
          "referenced_widgets": [
            "a326ce219cca4e9894480bbde23e542b"
          ]
        },
        "id": "c703f380",
        "outputId": "5e6c6196-eeaf-4415-d455-cddb9231e9e7"
      },
      "outputs": [
        {
          "data": {
            "application/vnd.jupyter.widget-view+json": {
              "model_id": "a326ce219cca4e9894480bbde23e542b",
              "version_major": 2,
              "version_minor": 0
            },
            "text/plain": [
              "  0%|          | 0/6 [00:00<?, ?it/s]"
            ]
          },
          "metadata": {},
          "output_type": "display_data"
        },
        {
          "name": "stdout",
          "output_type": "stream",
          "text": [
            "Target: X4_mean, R2: 0.530\n",
            "Target: X11_mean, R2: 0.462\n",
            "Target: X18_mean, R2: 0.649\n",
            "Target: X50_mean, R2: 0.392\n",
            "Target: X26_mean, R2: 0.360\n",
            "Target: X3112_mean, R2: 0.531\n",
            "Mean R2: 0.487\n",
            "CPU times: user 7h 10min 45s, sys: 1min 24s, total: 7h 12min 10s\n",
            "Wall time: 2h 12min 58s\n"
          ]
        }
      ],
      "source": [
        "%%time\n",
        "models = {}\n",
        "scores = {}\n",
        "for i, col in tqdm(enumerate(CONFIG.TARGET_COLUMNS), total=len(CONFIG.TARGET_COLUMNS)):\n",
        "    y_train = y_train_mask[:, i]\n",
        "    y_val = y_val_mask[:, i]\n",
        "    train_pool = Pool(X_train, y_train, embedding_features=['emb'])\n",
        "    val_pool = Pool(X_val, y_val, embedding_features=['emb'])\n",
        "\n",
        "    model = CatBoostRegressor(iterations=2000, learning_rate=0.06, loss_function='RMSE', verbose=0, random_state=CONFIG.SEED)\n",
        "    model.fit(train_pool)\n",
        "    models[col] = model\n",
        "\n",
        "    y_pred = model.predict(val_pool)\n",
        "\n",
        "    r2_col = r2_score(y_val, y_pred)\n",
        "    scores[col] = r2_col\n",
        "    print(f'Target: {col}, R2: {r2_col:.3f}')\n",
        "\n",
        "print(f'Mean R2: {np.mean(list(scores.values())):.3f}')"
      ]
    },
    {
      "cell_type": "code",
      "execution_count": null,
      "id": "8e12ea33",
      "metadata": {
        "execution": {
          "iopub.execute_input": "2024-08-13T02:25:41.481407Z",
          "iopub.status.busy": "2024-08-13T02:25:41.481009Z",
          "iopub.status.idle": "2024-08-13T02:26:00.297683Z",
          "shell.execute_reply": "2024-08-13T02:26:00.296417Z"
        },
        "papermill": {
          "duration": 18.826506,
          "end_time": "2024-08-13T02:26:00.300185",
          "exception": false,
          "start_time": "2024-08-13T02:25:41.473679",
          "status": "completed"
        },
        "tags": [],
        "id": "8e12ea33",
        "outputId": "00ba5cb6-9cb0-41d0-c83c-6a78d8f295bb"
      },
      "outputs": [
        {
          "data": {
            "text/html": [
              "<div>\n",
              "<style scoped>\n",
              "    .dataframe tbody tr th:only-of-type {\n",
              "        vertical-align: middle;\n",
              "    }\n",
              "\n",
              "    .dataframe tbody tr th {\n",
              "        vertical-align: top;\n",
              "    }\n",
              "\n",
              "    .dataframe thead th {\n",
              "        text-align: right;\n",
              "    }\n",
              "</style>\n",
              "<table border=\"1\" class=\"dataframe\">\n",
              "  <thead>\n",
              "    <tr style=\"text-align: right;\">\n",
              "      <th></th>\n",
              "      <th>id</th>\n",
              "      <th>X4</th>\n",
              "      <th>X11</th>\n",
              "      <th>X18</th>\n",
              "      <th>X50</th>\n",
              "      <th>X26</th>\n",
              "      <th>X3112</th>\n",
              "    </tr>\n",
              "  </thead>\n",
              "  <tbody>\n",
              "    <tr>\n",
              "      <th>0</th>\n",
              "      <td>154220505</td>\n",
              "      <td>1.138550</td>\n",
              "      <td>145.811684</td>\n",
              "      <td>19709.041663</td>\n",
              "      <td>15.210981</td>\n",
              "      <td>3518.882815</td>\n",
              "      <td>399895.181866</td>\n",
              "    </tr>\n",
              "    <tr>\n",
              "      <th>1</th>\n",
              "      <td>195736552</td>\n",
              "      <td>0.959577</td>\n",
              "      <td>154.435916</td>\n",
              "      <td>19699.562707</td>\n",
              "      <td>14.978896</td>\n",
              "      <td>3459.992266</td>\n",
              "      <td>398609.298455</td>\n",
              "    </tr>\n",
              "    <tr>\n",
              "      <th>2</th>\n",
              "      <td>182701773</td>\n",
              "      <td>0.982636</td>\n",
              "      <td>148.129923</td>\n",
              "      <td>19699.078895</td>\n",
              "      <td>15.015769</td>\n",
              "      <td>3460.289849</td>\n",
              "      <td>398033.485720</td>\n",
              "    </tr>\n",
              "    <tr>\n",
              "      <th>3</th>\n",
              "      <td>27688500</td>\n",
              "      <td>0.981447</td>\n",
              "      <td>140.566423</td>\n",
              "      <td>19699.497689</td>\n",
              "      <td>16.180347</td>\n",
              "      <td>3483.132325</td>\n",
              "      <td>397916.792551</td>\n",
              "    </tr>\n",
              "    <tr>\n",
              "      <th>4</th>\n",
              "      <td>195825045</td>\n",
              "      <td>0.911916</td>\n",
              "      <td>152.008563</td>\n",
              "      <td>19699.302744</td>\n",
              "      <td>14.889485</td>\n",
              "      <td>3460.025855</td>\n",
              "      <td>398914.879821</td>\n",
              "    </tr>\n",
              "  </tbody>\n",
              "</table>\n",
              "</div>"
            ],
            "text/plain": [
              "          id        X4         X11           X18        X50          X26  \\\n",
              "0  154220505  1.138550  145.811684  19709.041663  15.210981  3518.882815   \n",
              "1  195736552  0.959577  154.435916  19699.562707  14.978896  3459.992266   \n",
              "2  182701773  0.982636  148.129923  19699.078895  15.015769  3460.289849   \n",
              "3   27688500  0.981447  140.566423  19699.497689  16.180347  3483.132325   \n",
              "4  195825045  0.911916  152.008563  19699.302744  14.889485  3460.025855   \n",
              "\n",
              "           X3112  \n",
              "0  399895.181866  \n",
              "1  398609.298455  \n",
              "2  398033.485720  \n",
              "3  397916.792551  \n",
              "4  398914.879821  "
            ]
          },
          "execution_count": 13,
          "metadata": {},
          "output_type": "execute_result"
        }
      ],
      "source": [
        "submission = pd.DataFrame({'id': test['id']})\n",
        "submission[CONFIG.TARGET_COLUMNS] = 0\n",
        "submission.columns = submission.columns.str.replace('_mean', '')\n",
        "\n",
        "for i, col in enumerate(CONFIG.TARGET_COLUMNS):\n",
        "    test_pool = Pool(X_test, embedding_features=['emb'])\n",
        "    col_pred = models[col].predict(test_pool)\n",
        "    submission[col.replace('_mean', '')] = col_pred\n",
        "\n",
        "submission.to_csv('submission.csv', index=False)\n",
        "submission.head()"
      ]
    }
  ],
  "metadata": {
    "kaggle": {
      "accelerator": "none",
      "dataSources": [
        {
          "databundleVersionId": 8915386,
          "sourceId": 81655,
          "sourceType": "competition"
        },
        {
          "datasetId": 5533590,
          "sourceId": 9160506,
          "sourceType": "datasetVersion"
        }
      ],
      "dockerImageVersionId": 30746,
      "isGpuEnabled": false,
      "isInternetEnabled": true,
      "language": "python",
      "sourceType": "notebook"
    },
    "kernelspec": {
      "display_name": "Python 3",
      "language": "python",
      "name": "python3"
    },
    "language_info": {
      "codemirror_mode": {
        "name": "ipython",
        "version": 3
      },
      "file_extension": ".py",
      "mimetype": "text/x-python",
      "name": "python",
      "nbconvert_exporter": "python",
      "pygments_lexer": "ipython3",
      "version": "3.10.13"
    },
    "papermill": {
      "default_parameters": {},
      "duration": 8018.930912,
      "end_time": "2024-08-13T02:26:02.466941",
      "environment_variables": {},
      "exception": null,
      "input_path": "__notebook__.ipynb",
      "output_path": "__notebook__.ipynb",
      "parameters": {},
      "start_time": "2024-08-13T00:12:23.536029",
      "version": "2.5.0"
    },
    "widgets": {
      "application/vnd.jupyter.widget-state+json": {}
    },
    "colab": {
      "provenance": []
    }
  },
  "nbformat": 4,
  "nbformat_minor": 5
}